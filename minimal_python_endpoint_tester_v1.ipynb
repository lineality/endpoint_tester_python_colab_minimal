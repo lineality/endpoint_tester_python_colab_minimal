{
  "nbformat": 4,
  "nbformat_minor": 0,
  "metadata": {
    "colab": {
      "name": "minimal_python_endpoint_tester_v1.ipynb",
      "provenance": [],
      "collapsed_sections": []
    },
    "kernelspec": {
      "name": "python3",
      "display_name": "Python 3"
    },
    "language_info": {
      "name": "python"
    }
  },
  "cells": [
    {
      "cell_type": "markdown",
      "source": [
        "\n",
        "## This endpoint tester can be run from any browser.\n",
        "\n",
        "#### Hit the \"play\" triangle-in-a-circle icon to run a cell. You mouse will need to be in that cell to see the triangle, otherwise it looks like square brackets.\n",
        "\n",
        "To make and changes to your own version, select 'save a copy in drive' under the File menu."
      ],
      "metadata": {
        "id": "okmzgzOUOoHI"
      }
    },
    {
      "cell_type": "code",
      "execution_count": null,
      "metadata": {
        "id": "XNvHnyrWOZmM"
      },
      "outputs": [],
      "source": [
        "# import libraries\n",
        "import requests\n",
        "import json\n",
        "\n",
        "# URL of API-Endpoint\n",
        "url = \"https://o5uhf8wufd.execute-api.us-east-1.amazonaws.com/dev\"  \n",
        "\n",
        "# json / dictionary formated input: e.g. {'input_1': \"x\", 'input_2': \"y\"}\n",
        "val = {\"key\": 12345} # '' is used within a route like a dictionary key\n",
        "\n",
        "# Test Endpoint\n",
        "r_success = requests.post(url, data=json.dumps(val))\n",
        "\n",
        "# Print Results & Output\n",
        "print(f\"request responded: {r_success}.\\nthe content of the response was {r_success.json()}\")"
      ]
    }
  ]
}